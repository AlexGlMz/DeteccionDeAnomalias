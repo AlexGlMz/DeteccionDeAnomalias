{
  "nbformat": 4,
  "nbformat_minor": 0,
  "metadata": {
    "kernelspec": {
      "display_name": "Python 3",
      "language": "python",
      "name": "python3"
    },
    "language_info": {
      "codemirror_mode": {
        "name": "ipython",
        "version": 3
      },
      "file_extension": ".py",
      "mimetype": "text/x-python",
      "name": "python",
      "nbconvert_exporter": "python",
      "pygments_lexer": "ipython3",
      "version": "3.8.2"
    },
    "colab": {
      "name": "0. Exploración y preparación de datos.ipynb",
      "provenance": [],
      "toc_visible": true
    }
  },
  "cells": [
    {
      "cell_type": "code",
      "metadata": {
        "id": "PsYQIouKaPWv"
      },
      "source": [
        "import pandas as pd\n",
        "import numpy as np\n",
        "\n",
        "import seaborn as sns\n",
        "import matplotlib.pyplot as plt\n",
        "%matplotlib inline"
      ],
      "execution_count": 1,
      "outputs": []
    },
    {
      "cell_type": "code",
      "metadata": {
        "id": "v-IaNQ33aPW0",
        "outputId": "688fb053-c334-474f-edb5-e444d179b17f",
        "colab": {
          "base_uri": "https://localhost:8080/",
          "height": 136
        }
      },
      "source": [
        "X_train=pd.read_csv(\"https://raw.githubusercontent.com/AnIsAsPe/DeteccionDeAnomalias/master/Datos/train_X_9jXqqNo.csv\")\n",
        "X_train.head(3)"
      ],
      "execution_count": 2,
      "outputs": [
        {
          "output_type": "execute_result",
          "data": {
            "text/html": [
              "<div>\n",
              "<style scoped>\n",
              "    .dataframe tbody tr th:only-of-type {\n",
              "        vertical-align: middle;\n",
              "    }\n",
              "\n",
              "    .dataframe tbody tr th {\n",
              "        vertical-align: top;\n",
              "    }\n",
              "\n",
              "    .dataframe thead th {\n",
              "        text-align: right;\n",
              "    }\n",
              "</style>\n",
              "<table border=\"1\" class=\"dataframe\">\n",
              "  <thead>\n",
              "    <tr style=\"text-align: right;\">\n",
              "      <th></th>\n",
              "      <th>Unnamed: 0</th>\n",
              "      <th>SAMPLE_ID</th>\n",
              "      <th>GROUP_ID</th>\n",
              "      <th>ASSET_ID</th>\n",
              "      <th>MEASURE_TYPE</th>\n",
              "      <th>MEASURE_VALUE</th>\n",
              "      <th>MEASURE_WEEKDAY</th>\n",
              "      <th>MEASURE_WEEK</th>\n",
              "    </tr>\n",
              "  </thead>\n",
              "  <tbody>\n",
              "    <tr>\n",
              "      <th>0</th>\n",
              "      <td>0</td>\n",
              "      <td>1</td>\n",
              "      <td>2</td>\n",
              "      <td>1</td>\n",
              "      <td>1</td>\n",
              "      <td>NaN</td>\n",
              "      <td>1</td>\n",
              "      <td>1</td>\n",
              "    </tr>\n",
              "    <tr>\n",
              "      <th>1</th>\n",
              "      <td>1</td>\n",
              "      <td>1</td>\n",
              "      <td>2</td>\n",
              "      <td>1</td>\n",
              "      <td>2</td>\n",
              "      <td>NaN</td>\n",
              "      <td>1</td>\n",
              "      <td>1</td>\n",
              "    </tr>\n",
              "    <tr>\n",
              "      <th>2</th>\n",
              "      <td>2</td>\n",
              "      <td>1</td>\n",
              "      <td>2</td>\n",
              "      <td>1</td>\n",
              "      <td>3</td>\n",
              "      <td>19.0</td>\n",
              "      <td>1</td>\n",
              "      <td>1</td>\n",
              "    </tr>\n",
              "  </tbody>\n",
              "</table>\n",
              "</div>"
            ],
            "text/plain": [
              "   Unnamed: 0  SAMPLE_ID  ...  MEASURE_WEEKDAY  MEASURE_WEEK\n",
              "0           0          1  ...                1             1\n",
              "1           1          1  ...                1             1\n",
              "2           2          1  ...                1             1\n",
              "\n",
              "[3 rows x 8 columns]"
            ]
          },
          "metadata": {
            "tags": []
          },
          "execution_count": 2
        }
      ]
    },
    {
      "cell_type": "code",
      "metadata": {
        "scrolled": true,
        "id": "DNslGZkeaPW4",
        "outputId": "eb6dfe15-5734-45c9-c971-e8104677aa22",
        "colab": {
          "base_uri": "https://localhost:8080/",
          "height": 153
        }
      },
      "source": [
        "X_train = X_train.drop('Unnamed: 0', axis=1)\n",
        "X_train.columns= map(str.lower, X_train.columns)\n",
        "print(X_train.shape)\n",
        "X_train.head(3)"
      ],
      "execution_count": 3,
      "outputs": [
        {
          "output_type": "stream",
          "text": [
            "(241696, 7)\n"
          ],
          "name": "stdout"
        },
        {
          "output_type": "execute_result",
          "data": {
            "text/html": [
              "<div>\n",
              "<style scoped>\n",
              "    .dataframe tbody tr th:only-of-type {\n",
              "        vertical-align: middle;\n",
              "    }\n",
              "\n",
              "    .dataframe tbody tr th {\n",
              "        vertical-align: top;\n",
              "    }\n",
              "\n",
              "    .dataframe thead th {\n",
              "        text-align: right;\n",
              "    }\n",
              "</style>\n",
              "<table border=\"1\" class=\"dataframe\">\n",
              "  <thead>\n",
              "    <tr style=\"text-align: right;\">\n",
              "      <th></th>\n",
              "      <th>sample_id</th>\n",
              "      <th>group_id</th>\n",
              "      <th>asset_id</th>\n",
              "      <th>measure_type</th>\n",
              "      <th>measure_value</th>\n",
              "      <th>measure_weekday</th>\n",
              "      <th>measure_week</th>\n",
              "    </tr>\n",
              "  </thead>\n",
              "  <tbody>\n",
              "    <tr>\n",
              "      <th>0</th>\n",
              "      <td>1</td>\n",
              "      <td>2</td>\n",
              "      <td>1</td>\n",
              "      <td>1</td>\n",
              "      <td>NaN</td>\n",
              "      <td>1</td>\n",
              "      <td>1</td>\n",
              "    </tr>\n",
              "    <tr>\n",
              "      <th>1</th>\n",
              "      <td>1</td>\n",
              "      <td>2</td>\n",
              "      <td>1</td>\n",
              "      <td>2</td>\n",
              "      <td>NaN</td>\n",
              "      <td>1</td>\n",
              "      <td>1</td>\n",
              "    </tr>\n",
              "    <tr>\n",
              "      <th>2</th>\n",
              "      <td>1</td>\n",
              "      <td>2</td>\n",
              "      <td>1</td>\n",
              "      <td>3</td>\n",
              "      <td>19.0</td>\n",
              "      <td>1</td>\n",
              "      <td>1</td>\n",
              "    </tr>\n",
              "  </tbody>\n",
              "</table>\n",
              "</div>"
            ],
            "text/plain": [
              "   sample_id  group_id  asset_id  ...  measure_value  measure_weekday  measure_week\n",
              "0          1         2         1  ...            NaN                1             1\n",
              "1          1         2         1  ...            NaN                1             1\n",
              "2          1         2         1  ...           19.0                1             1\n",
              "\n",
              "[3 rows x 7 columns]"
            ]
          },
          "metadata": {
            "tags": []
          },
          "execution_count": 3
        }
      ]
    },
    {
      "cell_type": "code",
      "metadata": {
        "id": "HaOqFsyBaPW7",
        "outputId": "fd799e33-25d9-4a0f-aeea-d3682c0a5c3e",
        "colab": {
          "base_uri": "https://localhost:8080/",
          "height": 284
        }
      },
      "source": [
        "X_train.describe()"
      ],
      "execution_count": 4,
      "outputs": [
        {
          "output_type": "execute_result",
          "data": {
            "text/html": [
              "<div>\n",
              "<style scoped>\n",
              "    .dataframe tbody tr th:only-of-type {\n",
              "        vertical-align: middle;\n",
              "    }\n",
              "\n",
              "    .dataframe tbody tr th {\n",
              "        vertical-align: top;\n",
              "    }\n",
              "\n",
              "    .dataframe thead th {\n",
              "        text-align: right;\n",
              "    }\n",
              "</style>\n",
              "<table border=\"1\" class=\"dataframe\">\n",
              "  <thead>\n",
              "    <tr style=\"text-align: right;\">\n",
              "      <th></th>\n",
              "      <th>sample_id</th>\n",
              "      <th>group_id</th>\n",
              "      <th>asset_id</th>\n",
              "      <th>measure_type</th>\n",
              "      <th>measure_value</th>\n",
              "      <th>measure_weekday</th>\n",
              "      <th>measure_week</th>\n",
              "    </tr>\n",
              "  </thead>\n",
              "  <tbody>\n",
              "    <tr>\n",
              "      <th>count</th>\n",
              "      <td>241696.000000</td>\n",
              "      <td>241696.000000</td>\n",
              "      <td>241696.000000</td>\n",
              "      <td>241696.000000</td>\n",
              "      <td>170352.000000</td>\n",
              "      <td>241696.000000</td>\n",
              "      <td>241696.000000</td>\n",
              "    </tr>\n",
              "    <tr>\n",
              "      <th>mean</th>\n",
              "      <td>52.500000</td>\n",
              "      <td>2.674699</td>\n",
              "      <td>42.000000</td>\n",
              "      <td>2.500000</td>\n",
              "      <td>19.270992</td>\n",
              "      <td>4.000000</td>\n",
              "      <td>52.500000</td>\n",
              "    </tr>\n",
              "    <tr>\n",
              "      <th>std</th>\n",
              "      <td>30.020888</td>\n",
              "      <td>0.468488</td>\n",
              "      <td>23.958347</td>\n",
              "      <td>1.118036</td>\n",
              "      <td>45.299878</td>\n",
              "      <td>2.000004</td>\n",
              "      <td>30.020888</td>\n",
              "    </tr>\n",
              "    <tr>\n",
              "      <th>min</th>\n",
              "      <td>1.000000</td>\n",
              "      <td>2.000000</td>\n",
              "      <td>1.000000</td>\n",
              "      <td>1.000000</td>\n",
              "      <td>0.000000</td>\n",
              "      <td>1.000000</td>\n",
              "      <td>1.000000</td>\n",
              "    </tr>\n",
              "    <tr>\n",
              "      <th>25%</th>\n",
              "      <td>26.750000</td>\n",
              "      <td>2.000000</td>\n",
              "      <td>21.000000</td>\n",
              "      <td>1.750000</td>\n",
              "      <td>0.000000</td>\n",
              "      <td>2.000000</td>\n",
              "      <td>26.750000</td>\n",
              "    </tr>\n",
              "    <tr>\n",
              "      <th>50%</th>\n",
              "      <td>52.500000</td>\n",
              "      <td>3.000000</td>\n",
              "      <td>42.000000</td>\n",
              "      <td>2.500000</td>\n",
              "      <td>2.000000</td>\n",
              "      <td>4.000000</td>\n",
              "      <td>52.500000</td>\n",
              "    </tr>\n",
              "    <tr>\n",
              "      <th>75%</th>\n",
              "      <td>78.250000</td>\n",
              "      <td>3.000000</td>\n",
              "      <td>63.000000</td>\n",
              "      <td>3.250000</td>\n",
              "      <td>18.000000</td>\n",
              "      <td>6.000000</td>\n",
              "      <td>78.250000</td>\n",
              "    </tr>\n",
              "    <tr>\n",
              "      <th>max</th>\n",
              "      <td>104.000000</td>\n",
              "      <td>3.000000</td>\n",
              "      <td>83.000000</td>\n",
              "      <td>4.000000</td>\n",
              "      <td>728.000000</td>\n",
              "      <td>7.000000</td>\n",
              "      <td>104.000000</td>\n",
              "    </tr>\n",
              "  </tbody>\n",
              "</table>\n",
              "</div>"
            ],
            "text/plain": [
              "           sample_id       group_id  ...  measure_weekday   measure_week\n",
              "count  241696.000000  241696.000000  ...    241696.000000  241696.000000\n",
              "mean       52.500000       2.674699  ...         4.000000      52.500000\n",
              "std        30.020888       0.468488  ...         2.000004      30.020888\n",
              "min         1.000000       2.000000  ...         1.000000       1.000000\n",
              "25%        26.750000       2.000000  ...         2.000000      26.750000\n",
              "50%        52.500000       3.000000  ...         4.000000      52.500000\n",
              "75%        78.250000       3.000000  ...         6.000000      78.250000\n",
              "max       104.000000       3.000000  ...         7.000000     104.000000\n",
              "\n",
              "[8 rows x 7 columns]"
            ]
          },
          "metadata": {
            "tags": []
          },
          "execution_count": 4
        }
      ]
    },
    {
      "cell_type": "code",
      "metadata": {
        "id": "_FdIEjyxaPW9",
        "outputId": "8c7388cb-e477-41dc-bbc2-4c01b5004d1f",
        "colab": {
          "base_uri": "https://localhost:8080/",
          "height": 441
        }
      },
      "source": [
        "#Se tiene la hipotesis Sample ID == MESSURE _WEEK\n",
        "def correlacion(dataframe, grafica = True, figsize=(8,6)):\n",
        "    corr=dataframe.corr()                #creamos la matriz de correlación\n",
        "    fig = plt.figure(figsize = figsize)\n",
        "    if grafica == True:\n",
        "        sns.heatmap(corr, cmap=\"coolwarm\", annot=True, square=False)\n",
        "        fig.tight_layout()\n",
        "    return corr\n",
        "\n",
        "corr_matrix=correlacion(X_train, grafica=True)"
      ],
      "execution_count": 5,
      "outputs": [
        {
          "output_type": "display_data",
          "data": {
            "image/png": "[encoded data removed]",
            "text/plain": [
              "<Figure size 576x432 with 2 Axes>"
            ]
          },
          "metadata": {
            "tags": [],
            "needs_background": "light"
          }
        }
      ]
    },
    {
      "cell_type": "code",
      "metadata": {
        "id": "HObpOsWBaPXA",
        "outputId": "8d641fb3-99e4-4f4c-d4ee-15135266f3b6",
        "colab": {
          "base_uri": "https://localhost:8080/",
          "height": 1000
        }
      },
      "source": [
        "X_train = X_train.drop('sample_id', axis=1)\n",
        "\n",
        "for col in X_train.columns:\n",
        "    print(col)\n",
        "    print(X_train[col].unique(),\"\\n\")"
      ],
      "execution_count": 6,
      "outputs": [
        {
          "output_type": "stream",
          "text": [
            "group_id\n",
            "[2 3] \n",
            "\n",
            "asset_id\n",
            "[ 1  2  3  4  5  6  7  8  9 10 11 12 13 14 15 16 17 18 19 20 21 22 23 24\n",
            " 25 26 27 28 29 30 31 32 33 34 35 36 37 38 39 40 41 42 43 44 45 46 47 48\n",
            " 49 50 51 52 53 54 55 56 57 58 59 60 61 62 63 64 65 66 67 68 69 70 71 72\n",
            " 73 74 75 76 77 78 79 80 81 82 83] \n",
            "\n",
            "measure_type\n",
            "[1 2 3 4] \n",
            "\n",
            "measure_value\n",
            "[ nan  19.   0.   8.   9.   6.   2.  33.   3.  31.  23.  14.   7.  58.\n",
            "  10.  35.  51.  38.  48.  11.  56.   5.  50.  36.  27.  22.   1.  21.\n",
            "   4.  28.  12.  13.  15.  26.  17.  29.  16.  20.  24.  18.  41.  30.\n",
            "  32.  34.  42.  43.  47.  25.  60.  59.  44.  40.  45.  55.  94.  70.\n",
            "  57.  64.  68.  53.  49.  52.  63.  54.  66.  37.  46.  89.  77.  90.\n",
            "  61.  39.  83.  97. 104.  69.  71.  65.  82.  74.  84.  81.  75.  88.\n",
            " 136. 143. 150. 158. 165. 177.  78. 196. 100. 206. 116. 237. 138. 260.\n",
            " 137. 253. 229. 135. 273. 178. 242. 141. 246. 134. 282. 164. 294. 191.\n",
            " 297. 303. 181. 289. 270. 255. 155. 276. 154. 277. 170. 304. 197. 316.\n",
            " 208. 264. 171. 261. 160. 225. 139. 256. 111. 190.  98. 124.  62. 127.\n",
            "  67.  72.  87.  93.  91.  96. 103.  86.  92. 142. 149. 176. 146. 112.\n",
            " 110. 119. 117. 132. 113. 105.  99. 114. 115.  76.  73. 140. 184. 179.\n",
            " 199. 180. 214.  95. 166. 163. 167. 169. 161. 121.  85.  79. 131. 102.\n",
            " 147. 125. 156. 186. 173. 215. 244. 236. 130. 228. 233. 247. 128. 205.\n",
            " 183. 232. 281. 153. 259. 230. 238. 122. 243. 109. 157. 218. 108. 159.\n",
            " 174. 133. 151. 168. 107. 152. 144. 148.  80. 224. 266. 300. 274. 262.\n",
            " 280. 298. 101. 202. 193. 123. 120. 106. 216. 227. 263. 275. 331. 295.\n",
            " 364. 342. 361. 313. 335. 319. 312. 322. 346. 118. 324. 279. 269. 252.\n",
            " 194. 145. 212. 220. 198. 207. 192. 129. 271. 317. 328. 240. 311. 223.\n",
            " 315. 250. 362. 347. 254. 354. 239. 325. 231. 213. 310. 307. 235. 296.\n",
            " 204. 278. 337. 327. 306. 221. 348. 338. 217. 359. 201. 329. 285. 182.\n",
            " 195. 126. 172. 211. 292. 283. 305. 378. 162. 425. 385. 435. 428. 439.\n",
            " 424. 418. 412. 392. 409. 267. 437. 421. 411. 249. 395. 257. 302. 272.\n",
            " 367. 351. 309. 352. 377. 370. 175. 360. 320. 339. 318. 286. 187. 188.\n",
            " 268. 308. 210. 185. 265. 284. 203. 326. 219. 200. 355. 345. 340. 291.\n",
            " 226. 251. 323. 369. 402. 371. 405. 383. 413. 434. 393. 384. 375. 376.\n",
            " 349. 372. 433. 452. 500. 549. 548. 497. 547. 513. 258. 516. 504. 507.\n",
            " 532. 537. 470. 448. 508. 501. 458. 390. 391. 415. 314. 343. 234. 293.\n",
            " 209. 248. 379. 365. 373. 430. 330. 368. 332. 222. 189. 382. 363. 419.\n",
            " 403. 422. 468. 429. 394. 408. 386. 387. 404. 388. 410. 451. 486. 462.\n",
            " 478. 469. 464. 491. 476. 416. 423. 436. 441. 396. 288. 357. 489. 449.\n",
            " 503. 523. 494. 417. 496. 498. 527. 490. 467. 479. 454. 241. 321. 341.\n",
            " 356. 334. 301. 336. 299. 245. 397. 389. 398. 400. 290. 287. 401. 525.\n",
            " 531. 445. 511. 619. 647. 666. 717. 601. 639. 648. 661. 675. 695. 724.\n",
            " 697. 517. 606. 676. 584. 652. 596. 635. 636. 658. 727. 631. 728. 665.\n",
            " 551. 590. 605. 578. 645. 594. 539. 420. 485. 350. 536. 610. 564. 630.\n",
            " 643. 704. 703. 484. 632. 593. 554. 598. 609. 540. 344. 674. 680. 568.\n",
            " 576. 563. 519. 538. 447. 427. 459. 333. 471. 466. 432. 457. 556. 510.\n",
            " 358. 366. 381. 481. 544. 465. 488. 453. 443. 426. 461. 446. 495. 374.\n",
            " 399. 460. 353. 440. 407. 414. 558. 522. 499. 444. 526. 472. 442. 380.\n",
            " 406. 438. 506. 477. 582. 493. 463. 487. 474.] \n",
            "\n",
            "measure_weekday\n",
            "[1 2 3 4 5 6 7] \n",
            "\n",
            "measure_week\n",
            "[  1   2   3   4   5   6   7   8   9  10  11  12  13  14  15  16  17  18\n",
            "  19  20  21  22  23  24  25  26  27  28  29  30  31  32  33  34  35  36\n",
            "  37  38  39  40  41  42  43  44  45  46  47  48  49  50  51  52  53  54\n",
            "  55  56  57  58  59  60  61  62  63  64  65  66  67  68  69  70  71  72\n",
            "  73  74  75  76  77  78  79  80  81  82  83  84  85  86  87  88  89  90\n",
            "  91  92  93  94  95  96  97  98  99 100 101 102 103 104] \n",
            "\n"
          ],
          "name": "stdout"
        }
      ]
    },
    {
      "cell_type": "code",
      "metadata": {
        "id": "xAumasVLaPXC",
        "outputId": "f6588ae6-b2a5-4f80-8f9d-2da21fe97302",
        "colab": {
          "base_uri": "https://localhost:8080/",
          "height": 295
        }
      },
      "source": [
        "sns.set(style=\"ticks\", palette=\"muted\")\n",
        "\n",
        "\n",
        "sns.boxplot(x=\"measure_type\", y=\"measure_value\",\n",
        "            hue=\"group_id\", palette=[\"m\",\"g\"], \n",
        "            data=X_train)\n",
        "sns.despine(offset=10, trim=True)"
      ],
      "execution_count": 7,
      "outputs": [
        {
          "output_type": "display_data",
          "data": {
            "image/png": "[encoded data removed]",
            "text/plain": [
              "<Figure size 432x288 with 1 Axes>"
            ]
          },
          "metadata": {
            "tags": []
          }
        }
      ]
    },
    {
      "cell_type": "code",
      "metadata": {
        "id": "ldLiZp_4aPXE",
        "outputId": "6c86fa82-0cae-4256-e4f2-8b5221671968",
        "colab": {
          "base_uri": "https://localhost:8080/",
          "height": 136
        }
      },
      "source": [
        "X_train.head(3)"
      ],
      "execution_count": 8,
      "outputs": [
        {
          "output_type": "execute_result",
          "data": {
            "text/html": [
              "<div>\n",
              "<style scoped>\n",
              "    .dataframe tbody tr th:only-of-type {\n",
              "        vertical-align: middle;\n",
              "    }\n",
              "\n",
              "    .dataframe tbody tr th {\n",
              "        vertical-align: top;\n",
              "    }\n",
              "\n",
              "    .dataframe thead th {\n",
              "        text-align: right;\n",
              "    }\n",
              "</style>\n",
              "<table border=\"1\" class=\"dataframe\">\n",
              "  <thead>\n",
              "    <tr style=\"text-align: right;\">\n",
              "      <th></th>\n",
              "      <th>group_id</th>\n",
              "      <th>asset_id</th>\n",
              "      <th>measure_type</th>\n",
              "      <th>measure_value</th>\n",
              "      <th>measure_weekday</th>\n",
              "      <th>measure_week</th>\n",
              "    </tr>\n",
              "  </thead>\n",
              "  <tbody>\n",
              "    <tr>\n",
              "      <th>0</th>\n",
              "      <td>2</td>\n",
              "      <td>1</td>\n",
              "      <td>1</td>\n",
              "      <td>NaN</td>\n",
              "      <td>1</td>\n",
              "      <td>1</td>\n",
              "    </tr>\n",
              "    <tr>\n",
              "      <th>1</th>\n",
              "      <td>2</td>\n",
              "      <td>1</td>\n",
              "      <td>2</td>\n",
              "      <td>NaN</td>\n",
              "      <td>1</td>\n",
              "      <td>1</td>\n",
              "    </tr>\n",
              "    <tr>\n",
              "      <th>2</th>\n",
              "      <td>2</td>\n",
              "      <td>1</td>\n",
              "      <td>3</td>\n",
              "      <td>19.0</td>\n",
              "      <td>1</td>\n",
              "      <td>1</td>\n",
              "    </tr>\n",
              "  </tbody>\n",
              "</table>\n",
              "</div>"
            ],
            "text/plain": [
              "   group_id  asset_id  ...  measure_weekday  measure_week\n",
              "0         2         1  ...                1             1\n",
              "1         2         1  ...                1             1\n",
              "2         2         1  ...                1             1\n",
              "\n",
              "[3 rows x 6 columns]"
            ]
          },
          "metadata": {
            "tags": []
          },
          "execution_count": 8
        }
      ]
    },
    {
      "cell_type": "markdown",
      "metadata": {
        "id": "ENyHz6BwaPXG"
      },
      "source": [
        "## Formateo de DataFrame\n",
        "\n",
        "De manera que nos quedemos con un renglon con las cuatro mediciones para cada día en cada instalación"
      ]
    },
    {
      "cell_type": "code",
      "metadata": {
        "id": "xWahr0GRaPXH",
        "outputId": "1dd98b02-651b-4bda-e24d-58e93f41c2b8",
        "colab": {
          "base_uri": "https://localhost:8080/",
          "height": 0
        }
      },
      "source": [
        "X_train=pd.pivot_table(X_train, index=['asset_id', 'group_id','measure_week', 'measure_weekday'], \n",
        "               columns=['measure_type'],values=['measure_value'],aggfunc='mean',).reset_index()\n",
        "X_train.columns=['asset_id', 'group_id','week', 'weekday', 't1','t2','t3','t4']\n",
        "X_train.head(3)"
      ],
      "execution_count": 9,
      "outputs": [
        {
          "output_type": "execute_result",
          "data": {
            "text/html": [
              "<div>\n",
              "<style scoped>\n",
              "    .dataframe tbody tr th:only-of-type {\n",
              "        vertical-align: middle;\n",
              "    }\n",
              "\n",
              "    .dataframe tbody tr th {\n",
              "        vertical-align: top;\n",
              "    }\n",
              "\n",
              "    .dataframe thead th {\n",
              "        text-align: right;\n",
              "    }\n",
              "</style>\n",
              "<table border=\"1\" class=\"dataframe\">\n",
              "  <thead>\n",
              "    <tr style=\"text-align: right;\">\n",
              "      <th></th>\n",
              "      <th>asset_id</th>\n",
              "      <th>group_id</th>\n",
              "      <th>week</th>\n",
              "      <th>weekday</th>\n",
              "      <th>t1</th>\n",
              "      <th>t2</th>\n",
              "      <th>t3</th>\n",
              "      <th>t4</th>\n",
              "    </tr>\n",
              "  </thead>\n",
              "  <tbody>\n",
              "    <tr>\n",
              "      <th>0</th>\n",
              "      <td>1</td>\n",
              "      <td>2</td>\n",
              "      <td>1</td>\n",
              "      <td>1</td>\n",
              "      <td>NaN</td>\n",
              "      <td>NaN</td>\n",
              "      <td>19.0</td>\n",
              "      <td>0.0</td>\n",
              "    </tr>\n",
              "    <tr>\n",
              "      <th>1</th>\n",
              "      <td>1</td>\n",
              "      <td>2</td>\n",
              "      <td>1</td>\n",
              "      <td>2</td>\n",
              "      <td>NaN</td>\n",
              "      <td>NaN</td>\n",
              "      <td>8.0</td>\n",
              "      <td>0.0</td>\n",
              "    </tr>\n",
              "    <tr>\n",
              "      <th>2</th>\n",
              "      <td>1</td>\n",
              "      <td>2</td>\n",
              "      <td>1</td>\n",
              "      <td>3</td>\n",
              "      <td>NaN</td>\n",
              "      <td>NaN</td>\n",
              "      <td>9.0</td>\n",
              "      <td>0.0</td>\n",
              "    </tr>\n",
              "  </tbody>\n",
              "</table>\n",
              "</div>"
            ],
            "text/plain": [
              "   asset_id  group_id  week  weekday  t1  t2    t3   t4\n",
              "0         1         2     1        1 NaN NaN  19.0  0.0\n",
              "1         1         2     1        2 NaN NaN   8.0  0.0\n",
              "2         1         2     1        3 NaN NaN   9.0  0.0"
            ]
          },
          "metadata": {
            "tags": []
          },
          "execution_count": 9
        }
      ]
    },
    {
      "cell_type": "code",
      "metadata": {
        "id": "u7D5TUgTaPXJ",
        "outputId": "09d230e2-6bc6-4b5d-dee8-487b9da0e003",
        "colab": {
          "base_uri": "https://localhost:8080/",
          "height": 0
        }
      },
      "source": [
        "X_train.describe()"
      ],
      "execution_count": 10,
      "outputs": [
        {
          "output_type": "execute_result",
          "data": {
            "text/html": [
              "<div>\n",
              "<style scoped>\n",
              "    .dataframe tbody tr th:only-of-type {\n",
              "        vertical-align: middle;\n",
              "    }\n",
              "\n",
              "    .dataframe tbody tr th {\n",
              "        vertical-align: top;\n",
              "    }\n",
              "\n",
              "    .dataframe thead th {\n",
              "        text-align: right;\n",
              "    }\n",
              "</style>\n",
              "<table border=\"1\" class=\"dataframe\">\n",
              "  <thead>\n",
              "    <tr style=\"text-align: right;\">\n",
              "      <th></th>\n",
              "      <th>asset_id</th>\n",
              "      <th>group_id</th>\n",
              "      <th>week</th>\n",
              "      <th>weekday</th>\n",
              "      <th>t1</th>\n",
              "      <th>t2</th>\n",
              "      <th>t3</th>\n",
              "      <th>t4</th>\n",
              "    </tr>\n",
              "  </thead>\n",
              "  <tbody>\n",
              "    <tr>\n",
              "      <th>count</th>\n",
              "      <td>60424.000000</td>\n",
              "      <td>60424.000000</td>\n",
              "      <td>60424.000000</td>\n",
              "      <td>60424.000000</td>\n",
              "      <td>24752.000000</td>\n",
              "      <td>24752.000000</td>\n",
              "      <td>60424.000000</td>\n",
              "      <td>60424.000000</td>\n",
              "    </tr>\n",
              "    <tr>\n",
              "      <th>mean</th>\n",
              "      <td>42.000000</td>\n",
              "      <td>2.674699</td>\n",
              "      <td>52.500000</td>\n",
              "      <td>4.000000</td>\n",
              "      <td>1.536765</td>\n",
              "      <td>0.349548</td>\n",
              "      <td>45.185075</td>\n",
              "      <td>8.372484</td>\n",
              "    </tr>\n",
              "    <tr>\n",
              "      <th>std</th>\n",
              "      <td>23.958495</td>\n",
              "      <td>0.468491</td>\n",
              "      <td>30.021075</td>\n",
              "      <td>2.000017</td>\n",
              "      <td>5.029422</td>\n",
              "      <td>2.004578</td>\n",
              "      <td>64.641355</td>\n",
              "      <td>23.002216</td>\n",
              "    </tr>\n",
              "    <tr>\n",
              "      <th>min</th>\n",
              "      <td>1.000000</td>\n",
              "      <td>2.000000</td>\n",
              "      <td>1.000000</td>\n",
              "      <td>1.000000</td>\n",
              "      <td>0.000000</td>\n",
              "      <td>0.000000</td>\n",
              "      <td>0.000000</td>\n",
              "      <td>0.000000</td>\n",
              "    </tr>\n",
              "    <tr>\n",
              "      <th>25%</th>\n",
              "      <td>21.000000</td>\n",
              "      <td>2.000000</td>\n",
              "      <td>26.750000</td>\n",
              "      <td>2.000000</td>\n",
              "      <td>0.000000</td>\n",
              "      <td>0.000000</td>\n",
              "      <td>9.000000</td>\n",
              "      <td>0.000000</td>\n",
              "    </tr>\n",
              "    <tr>\n",
              "      <th>50%</th>\n",
              "      <td>42.000000</td>\n",
              "      <td>3.000000</td>\n",
              "      <td>52.500000</td>\n",
              "      <td>4.000000</td>\n",
              "      <td>0.000000</td>\n",
              "      <td>0.000000</td>\n",
              "      <td>25.000000</td>\n",
              "      <td>1.000000</td>\n",
              "    </tr>\n",
              "    <tr>\n",
              "      <th>75%</th>\n",
              "      <td>63.000000</td>\n",
              "      <td>3.000000</td>\n",
              "      <td>78.250000</td>\n",
              "      <td>6.000000</td>\n",
              "      <td>1.000000</td>\n",
              "      <td>0.000000</td>\n",
              "      <td>54.000000</td>\n",
              "      <td>6.000000</td>\n",
              "    </tr>\n",
              "    <tr>\n",
              "      <th>max</th>\n",
              "      <td>83.000000</td>\n",
              "      <td>3.000000</td>\n",
              "      <td>104.000000</td>\n",
              "      <td>7.000000</td>\n",
              "      <td>76.000000</td>\n",
              "      <td>40.000000</td>\n",
              "      <td>728.000000</td>\n",
              "      <td>299.000000</td>\n",
              "    </tr>\n",
              "  </tbody>\n",
              "</table>\n",
              "</div>"
            ],
            "text/plain": [
              "           asset_id      group_id  ...            t3            t4\n",
              "count  60424.000000  60424.000000  ...  60424.000000  60424.000000\n",
              "mean      42.000000      2.674699  ...     45.185075      8.372484\n",
              "std       23.958495      0.468491  ...     64.641355     23.002216\n",
              "min        1.000000      2.000000  ...      0.000000      0.000000\n",
              "25%       21.000000      2.000000  ...      9.000000      0.000000\n",
              "50%       42.000000      3.000000  ...     25.000000      1.000000\n",
              "75%       63.000000      3.000000  ...     54.000000      6.000000\n",
              "max       83.000000      3.000000  ...    728.000000    299.000000\n",
              "\n",
              "[8 rows x 8 columns]"
            ]
          },
          "metadata": {
            "tags": []
          },
          "execution_count": 10
        }
      ]
    },
    {
      "cell_type": "code",
      "metadata": {
        "id": "BTMFMThwaPXL",
        "outputId": "9d024a8c-ae95-41ce-bb6b-d6b607c96940",
        "colab": {
          "base_uri": "https://localhost:8080/",
          "height": 0
        }
      },
      "source": [
        "X_train.info()"
      ],
      "execution_count": 11,
      "outputs": [
        {
          "output_type": "stream",
          "text": [
            "<class 'pandas.core.frame.DataFrame'>\n",
            "RangeIndex: 60424 entries, 0 to 60423\n",
            "Data columns (total 8 columns):\n",
            " #   Column    Non-Null Count  Dtype  \n",
            "---  ------    --------------  -----  \n",
            " 0   asset_id  60424 non-null  int64  \n",
            " 1   group_id  60424 non-null  int64  \n",
            " 2   week      60424 non-null  int64  \n",
            " 3   weekday   60424 non-null  int64  \n",
            " 4   t1        24752 non-null  float64\n",
            " 5   t2        24752 non-null  float64\n",
            " 6   t3        60424 non-null  float64\n",
            " 7   t4        60424 non-null  float64\n",
            "dtypes: float64(4), int64(4)\n",
            "memory usage: 3.7 MB\n"
          ],
          "name": "stdout"
        }
      ]
    },
    {
      "cell_type": "code",
      "metadata": {
        "id": "z9XpLS5XaPXN",
        "outputId": "66696ec3-d598-465b-dd52-8daf552bcbb1",
        "colab": {
          "base_uri": "https://localhost:8080/",
          "height": 0
        }
      },
      "source": [
        "sns.set(style=\"ticks\", palette=\"muted\")\n",
        "\n",
        "\n",
        "sns.boxplot(x=\"weekday\", y=\"t3\",\n",
        "            hue=\"group_id\", palette=[\"m\",\"g\"], \n",
        "            data=X_train)\n",
        "sns.despine(offset=10, trim=True)"
      ],
      "execution_count": 12,
      "outputs": [
        {
          "output_type": "display_data",
          "data": {
            "image/png": "[encoded data removed]",
            "text/plain": [
              "<Figure size 432x288 with 1 Axes>"
            ]
          },
          "metadata": {
            "tags": []
          }
        }
      ]
    },
    {
      "cell_type": "code",
      "metadata": {
        "id": "PfJELSAnaPXO",
        "outputId": "fe8f62e3-fc56-4fd8-8aa5-861d6d030e5a",
        "colab": {
          "base_uri": "https://localhost:8080/",
          "height": 0
        }
      },
      "source": [
        "plt.hist(X_train[X_train['group_id']==3]['t3'], bins=20, alpha=.5, label=\"grupo 3\")\n",
        "plt.hist(X_train[X_train['group_id']==2]['t3'], bins=20, alpha=.5, label=\"grupo 2\")\n",
        "plt.legend()\n"
      ],
      "execution_count": 13,
      "outputs": [
        {
          "output_type": "execute_result",
          "data": {
            "text/plain": [
              "<matplotlib.legend.Legend at 0x7f6d0d366fd0>"
            ]
          },
          "metadata": {
            "tags": []
          },
          "execution_count": 13
        },
        {
          "output_type": "display_data",
          "data": {
            "image/png": "[encoded data removed]",
            "text/plain": [
              "<Figure size 432x288 with 1 Axes>"
            ]
          },
          "metadata": {
            "tags": []
          }
        }
      ]
    },
    {
      "cell_type": "code",
      "metadata": {
        "id": "Npviiep-aPXQ",
        "outputId": "f978eb2e-ad96-4d05-d24d-792b80eeb292",
        "colab": {
          "base_uri": "https://localhost:8080/",
          "height": 0
        }
      },
      "source": [
        "mediciones=[\"t1\",\"t2\",\"t3\",\"t4\"]\n",
        "X_train[mediciones].plot(kind='hist', stacked=True, bins=50, alpha=.5)"
      ],
      "execution_count": 14,
      "outputs": [
        {
          "output_type": "execute_result",
          "data": {
            "text/plain": [
              "<matplotlib.axes._subplots.AxesSubplot at 0x7f6d0d36c1d0>"
            ]
          },
          "metadata": {
            "tags": []
          },
          "execution_count": 14
        },
        {
          "output_type": "display_data",
          "data": {
            "image/png": "[encoded data removed]",
            "text/plain": [
              "<Figure size 432x288 with 1 Axes>"
            ]
          },
          "metadata": {
            "tags": []
          }
        }
      ]
    },
    {
      "cell_type": "code",
      "metadata": {
        "id": "uC0E7lOVaPXT",
        "outputId": "5da73119-dd22-4b61-901a-613d6d18ad1d",
        "colab": {
          "base_uri": "https://localhost:8080/",
          "height": 0
        }
      },
      "source": [
        "X_train.t3.plot.line()"
      ],
      "execution_count": 15,
      "outputs": [
        {
          "output_type": "execute_result",
          "data": {
            "text/plain": [
              "<matplotlib.axes._subplots.AxesSubplot at 0x7f6d09a84be0>"
            ]
          },
          "metadata": {
            "tags": []
          },
          "execution_count": 15
        },
        {
          "output_type": "display_data",
          "data": {
            "image/png": "[encoded data removed]",
            "text/plain": [
              "<Figure size 432x288 with 1 Axes>"
            ]
          },
          "metadata": {
            "tags": []
          }
        }
      ]
    },
    {
      "cell_type": "code",
      "metadata": {
        "id": "UXUXEgZ3aPXV",
        "outputId": "f3d0cc79-420f-4e8a-eb35-160183c18244",
        "colab": {
          "base_uri": "https://localhost:8080/",
          "height": 0
        }
      },
      "source": [
        "corr_types=correlacion(X_train[mediciones], grafica=True,figsize=(4,3))"
      ],
      "execution_count": 16,
      "outputs": [
        {
          "output_type": "display_data",
          "data": {
            "image/png": "[encoded data removed]",
            "text/plain": [
              "<Figure size 288x216 with 2 Axes>"
            ]
          },
          "metadata": {
            "tags": []
          }
        }
      ]
    },
    {
      "cell_type": "markdown",
      "metadata": {
        "id": "Y4lEdWFCaPXW"
      },
      "source": [
        "\n",
        "\n",
        "![image.png](attachment:image.png)"
      ]
    },
    {
      "cell_type": "markdown",
      "metadata": {
        "id": "bC2IYQGzaPXX"
      },
      "source": [
        "# Exploración de valores nulos en el DataFrame"
      ]
    },
    {
      "cell_type": "code",
      "metadata": {
        "id": "jju-VhJAaPXX",
        "outputId": "5095b137-bd14-4a77-85fa-4fb64eb36a2b",
        "colab": {
          "base_uri": "https://localhost:8080/",
          "height": 0
        }
      },
      "source": [
        "X_train.isnull().sum()"
      ],
      "execution_count": 17,
      "outputs": [
        {
          "output_type": "execute_result",
          "data": {
            "text/plain": [
              "asset_id        0\n",
              "group_id        0\n",
              "week            0\n",
              "weekday         0\n",
              "t1          35672\n",
              "t2          35672\n",
              "t3              0\n",
              "t4              0\n",
              "dtype: int64"
            ]
          },
          "metadata": {
            "tags": []
          },
          "execution_count": 17
        }
      ]
    },
    {
      "cell_type": "code",
      "metadata": {
        "id": "rRR1lNUBaPXZ",
        "outputId": "3fdb8c52-97da-471d-8c19-5f91604403f5",
        "colab": {
          "base_uri": "https://localhost:8080/",
          "height": 0
        }
      },
      "source": [
        "df_nulos=X_train[X_train.t1.isnull()]\n",
        "df_nulos.describe()"
      ],
      "execution_count": 18,
      "outputs": [
        {
          "output_type": "execute_result",
          "data": {
            "text/html": [
              "<div>\n",
              "<style scoped>\n",
              "    .dataframe tbody tr th:only-of-type {\n",
              "        vertical-align: middle;\n",
              "    }\n",
              "\n",
              "    .dataframe tbody tr th {\n",
              "        vertical-align: top;\n",
              "    }\n",
              "\n",
              "    .dataframe thead th {\n",
              "        text-align: right;\n",
              "    }\n",
              "</style>\n",
              "<table border=\"1\" class=\"dataframe\">\n",
              "  <thead>\n",
              "    <tr style=\"text-align: right;\">\n",
              "      <th></th>\n",
              "      <th>asset_id</th>\n",
              "      <th>group_id</th>\n",
              "      <th>week</th>\n",
              "      <th>weekday</th>\n",
              "      <th>t1</th>\n",
              "      <th>t2</th>\n",
              "      <th>t3</th>\n",
              "      <th>t4</th>\n",
              "    </tr>\n",
              "  </thead>\n",
              "  <tbody>\n",
              "    <tr>\n",
              "      <th>count</th>\n",
              "      <td>35672.000000</td>\n",
              "      <td>35672.000000</td>\n",
              "      <td>35672.000000</td>\n",
              "      <td>35672.000000</td>\n",
              "      <td>0.0</td>\n",
              "      <td>0.0</td>\n",
              "      <td>35672.000000</td>\n",
              "      <td>35672.000000</td>\n",
              "    </tr>\n",
              "    <tr>\n",
              "      <th>mean</th>\n",
              "      <td>36.877551</td>\n",
              "      <td>2.551020</td>\n",
              "      <td>52.500000</td>\n",
              "      <td>4.000000</td>\n",
              "      <td>NaN</td>\n",
              "      <td>NaN</td>\n",
              "      <td>35.440401</td>\n",
              "      <td>6.569634</td>\n",
              "    </tr>\n",
              "    <tr>\n",
              "      <th>std</th>\n",
              "      <td>23.942982</td>\n",
              "      <td>0.497397</td>\n",
              "      <td>30.021247</td>\n",
              "      <td>2.000028</td>\n",
              "      <td>NaN</td>\n",
              "      <td>NaN</td>\n",
              "      <td>49.357624</td>\n",
              "      <td>20.114538</td>\n",
              "    </tr>\n",
              "    <tr>\n",
              "      <th>min</th>\n",
              "      <td>1.000000</td>\n",
              "      <td>2.000000</td>\n",
              "      <td>1.000000</td>\n",
              "      <td>1.000000</td>\n",
              "      <td>NaN</td>\n",
              "      <td>NaN</td>\n",
              "      <td>0.000000</td>\n",
              "      <td>0.000000</td>\n",
              "    </tr>\n",
              "    <tr>\n",
              "      <th>25%</th>\n",
              "      <td>17.000000</td>\n",
              "      <td>2.000000</td>\n",
              "      <td>26.750000</td>\n",
              "      <td>2.000000</td>\n",
              "      <td>NaN</td>\n",
              "      <td>NaN</td>\n",
              "      <td>8.000000</td>\n",
              "      <td>0.000000</td>\n",
              "    </tr>\n",
              "    <tr>\n",
              "      <th>50%</th>\n",
              "      <td>32.000000</td>\n",
              "      <td>3.000000</td>\n",
              "      <td>52.500000</td>\n",
              "      <td>4.000000</td>\n",
              "      <td>NaN</td>\n",
              "      <td>NaN</td>\n",
              "      <td>22.000000</td>\n",
              "      <td>1.000000</td>\n",
              "    </tr>\n",
              "    <tr>\n",
              "      <th>75%</th>\n",
              "      <td>55.000000</td>\n",
              "      <td>3.000000</td>\n",
              "      <td>78.250000</td>\n",
              "      <td>6.000000</td>\n",
              "      <td>NaN</td>\n",
              "      <td>NaN</td>\n",
              "      <td>44.000000</td>\n",
              "      <td>5.000000</td>\n",
              "    </tr>\n",
              "    <tr>\n",
              "      <th>max</th>\n",
              "      <td>82.000000</td>\n",
              "      <td>3.000000</td>\n",
              "      <td>104.000000</td>\n",
              "      <td>7.000000</td>\n",
              "      <td>NaN</td>\n",
              "      <td>NaN</td>\n",
              "      <td>549.000000</td>\n",
              "      <td>283.000000</td>\n",
              "    </tr>\n",
              "  </tbody>\n",
              "</table>\n",
              "</div>"
            ],
            "text/plain": [
              "           asset_id      group_id  ...            t3            t4\n",
              "count  35672.000000  35672.000000  ...  35672.000000  35672.000000\n",
              "mean      36.877551      2.551020  ...     35.440401      6.569634\n",
              "std       23.942982      0.497397  ...     49.357624     20.114538\n",
              "min        1.000000      2.000000  ...      0.000000      0.000000\n",
              "25%       17.000000      2.000000  ...      8.000000      0.000000\n",
              "50%       32.000000      3.000000  ...     22.000000      1.000000\n",
              "75%       55.000000      3.000000  ...     44.000000      5.000000\n",
              "max       82.000000      3.000000  ...    549.000000    283.000000\n",
              "\n",
              "[8 rows x 8 columns]"
            ]
          },
          "metadata": {
            "tags": []
          },
          "execution_count": 18
        }
      ]
    },
    {
      "cell_type": "code",
      "metadata": {
        "id": "OgByTfPBaPXb",
        "outputId": "6a73afbb-a41c-4bb4-e23d-0f6781a47faa",
        "colab": {
          "base_uri": "https://localhost:8080/",
          "height": 0
        }
      },
      "source": [
        "\n",
        "for col in df_nulos.columns:\n",
        "    print(col)\n",
        "    print(df_nulos[col].nunique(),\"\\n\")"
      ],
      "execution_count": 19,
      "outputs": [
        {
          "output_type": "stream",
          "text": [
            "asset_id\n",
            "49 \n",
            "\n",
            "group_id\n",
            "2 \n",
            "\n",
            "week\n",
            "104 \n",
            "\n",
            "weekday\n",
            "7 \n",
            "\n",
            "t1\n",
            "0 \n",
            "\n",
            "t2\n",
            "0 \n",
            "\n",
            "t3\n",
            "439 \n",
            "\n",
            "t4\n",
            "235 \n",
            "\n"
          ],
          "name": "stdout"
        }
      ]
    },
    {
      "cell_type": "code",
      "metadata": {
        "id": "AYOgV3ipaPXd",
        "outputId": "94607e6f-bbda-49a2-c88b-1c45ecd72c3b",
        "colab": {
          "base_uri": "https://localhost:8080/",
          "height": 0
        }
      },
      "source": [
        "df_nulos.group_id.value_counts()"
      ],
      "execution_count": 20,
      "outputs": [
        {
          "output_type": "execute_result",
          "data": {
            "text/plain": [
              "3    19656\n",
              "2    16016\n",
              "Name: group_id, dtype: int64"
            ]
          },
          "metadata": {
            "tags": []
          },
          "execution_count": 20
        }
      ]
    },
    {
      "cell_type": "code",
      "metadata": {
        "id": "gznqGOKhaPXg",
        "outputId": "6dc6cd5c-d7b0-449f-edec-44aa49683a4e",
        "colab": {
          "base_uri": "https://localhost:8080/",
          "height": 0
        }
      },
      "source": [
        "corr_types=correlacion(df_nulos[['t3','t4']], grafica=True,figsize=(4,3))"
      ],
      "execution_count": 21,
      "outputs": [
        {
          "output_type": "display_data",
          "data": {
            "image/png": "[encoded data removed]",
            "text/plain": [
              "<Figure size 288x216 with 2 Axes>"
            ]
          },
          "metadata": {
            "tags": []
          }
        }
      ]
    },
    {
      "cell_type": "markdown",
      "metadata": {
        "id": "6yKQfFMyaPXi"
      },
      "source": [
        "## Identificar assets con valores nulos en t1 y t2\n",
        "\n",
        "_49 de las 83 instalaciones o assets tienen valores nulos en el timpo de medición 1 y 2_"
      ]
    },
    {
      "cell_type": "code",
      "metadata": {
        "id": "8DCd4rwhaPXi",
        "outputId": "e35a07ee-feec-4dc7-87a4-7cf0d380577b",
        "colab": {
          "base_uri": "https://localhost:8080/",
          "height": 0
        }
      },
      "source": [
        "assets_sin_t1t2 = df_nulos.asset_id.unique()  #identificación de assets sin t1 y t2\n",
        "print(assets_sin_t1t2.shape)\n",
        "assets_sin_t1t2"
      ],
      "execution_count": 22,
      "outputs": [
        {
          "output_type": "stream",
          "text": [
            "(49,)\n"
          ],
          "name": "stdout"
        },
        {
          "output_type": "execute_result",
          "data": {
            "text/plain": [
              "array([ 1,  2,  4,  5,  6,  8, 10, 11, 12, 13, 15, 16, 17, 18, 19, 20, 21,\n",
              "       22, 23, 25, 26, 27, 29, 30, 32, 33, 37, 39, 40, 44, 47, 48, 49, 51,\n",
              "       52, 53, 55, 59, 61, 65, 66, 67, 70, 71, 73, 75, 78, 80, 82])"
            ]
          },
          "metadata": {
            "tags": []
          },
          "execution_count": 22
        }
      ]
    },
    {
      "cell_type": "code",
      "metadata": {
        "id": "oB5mcpHCaPXk",
        "outputId": "2939a9f4-8f92-4778-8365-f720874e0166",
        "colab": {
          "base_uri": "https://localhost:8080/",
          "height": 0
        }
      },
      "source": [
        "assets=X_train.asset_id.unique()\n",
        "assets"
      ],
      "execution_count": 23,
      "outputs": [
        {
          "output_type": "execute_result",
          "data": {
            "text/plain": [
              "array([ 1,  2,  3,  4,  5,  6,  7,  8,  9, 10, 11, 12, 13, 14, 15, 16, 17,\n",
              "       18, 19, 20, 21, 22, 23, 24, 25, 26, 27, 28, 29, 30, 31, 32, 33, 34,\n",
              "       35, 36, 37, 38, 39, 40, 41, 42, 43, 44, 45, 46, 47, 48, 49, 50, 51,\n",
              "       52, 53, 54, 55, 56, 57, 58, 59, 60, 61, 62, 63, 64, 65, 66, 67, 68,\n",
              "       69, 70, 71, 72, 73, 74, 75, 76, 77, 78, 79, 80, 81, 82, 83])"
            ]
          },
          "metadata": {
            "tags": []
          },
          "execution_count": 23
        }
      ]
    },
    {
      "cell_type": "code",
      "metadata": {
        "id": "HaaCaGY2aPXl",
        "outputId": "0a34eac5-8c93-4f78-8ccd-f12283bb4674",
        "colab": {
          "base_uri": "https://localhost:8080/",
          "height": 0
        }
      },
      "source": [
        "assets_con_t1t2=assets[np.isin(assets,assets_sin_t1t2, invert=True)]   #asset con las cuatro mediciones\n",
        "print(assets_con_t1t2.shape)\n",
        "assets_con_t1t2"
      ],
      "execution_count": 24,
      "outputs": [
        {
          "output_type": "stream",
          "text": [
            "(34,)\n"
          ],
          "name": "stdout"
        },
        {
          "output_type": "execute_result",
          "data": {
            "text/plain": [
              "array([ 3,  7,  9, 14, 24, 28, 31, 34, 35, 36, 38, 41, 42, 43, 45, 46, 50,\n",
              "       54, 56, 57, 58, 60, 62, 63, 64, 68, 69, 72, 74, 76, 77, 79, 81, 83])"
            ]
          },
          "metadata": {
            "tags": []
          },
          "execution_count": 24
        }
      ]
    },
    {
      "cell_type": "markdown",
      "metadata": {
        "id": "OGv7MOjTaPXn"
      },
      "source": [
        "_Guardar tipo de asset según si tiene las 4 mediciones o solo 2 (t3 y t4)_\n"
      ]
    },
    {
      "cell_type": "code",
      "metadata": {
        "id": "4PC_U2pyaPXo",
        "outputId": "c74ea171-e3f5-4f80-bb0f-7c0009698c95",
        "colab": {
          "base_uri": "https://localhost:8080/",
          "height": 0
        }
      },
      "source": [
        "X_train['total_t'] = np.where(X_train.t1.isnull(),\"2\",\"4\")\n",
        "(pd.crosstab(X_train.group_id, X_train.total_t, margins=True)/728).astype('int32')"
      ],
      "execution_count": 25,
      "outputs": [
        {
          "output_type": "execute_result",
          "data": {
            "text/html": [
              "<div>\n",
              "<style scoped>\n",
              "    .dataframe tbody tr th:only-of-type {\n",
              "        vertical-align: middle;\n",
              "    }\n",
              "\n",
              "    .dataframe tbody tr th {\n",
              "        vertical-align: top;\n",
              "    }\n",
              "\n",
              "    .dataframe thead th {\n",
              "        text-align: right;\n",
              "    }\n",
              "</style>\n",
              "<table border=\"1\" class=\"dataframe\">\n",
              "  <thead>\n",
              "    <tr style=\"text-align: right;\">\n",
              "      <th>total_t</th>\n",
              "      <th>2</th>\n",
              "      <th>4</th>\n",
              "      <th>All</th>\n",
              "    </tr>\n",
              "    <tr>\n",
              "      <th>group_id</th>\n",
              "      <th></th>\n",
              "      <th></th>\n",
              "      <th></th>\n",
              "    </tr>\n",
              "  </thead>\n",
              "  <tbody>\n",
              "    <tr>\n",
              "      <th>2</th>\n",
              "      <td>22</td>\n",
              "      <td>5</td>\n",
              "      <td>27</td>\n",
              "    </tr>\n",
              "    <tr>\n",
              "      <th>3</th>\n",
              "      <td>27</td>\n",
              "      <td>29</td>\n",
              "      <td>56</td>\n",
              "    </tr>\n",
              "    <tr>\n",
              "      <th>All</th>\n",
              "      <td>49</td>\n",
              "      <td>34</td>\n",
              "      <td>83</td>\n",
              "    </tr>\n",
              "  </tbody>\n",
              "</table>\n",
              "</div>"
            ],
            "text/plain": [
              "total_t    2   4  All\n",
              "group_id             \n",
              "2         22   5   27\n",
              "3         27  29   56\n",
              "All       49  34   83"
            ]
          },
          "metadata": {
            "tags": []
          },
          "execution_count": 25
        }
      ]
    },
    {
      "cell_type": "markdown",
      "metadata": {
        "id": "3C9x0d_haPXp"
      },
      "source": [
        "# Preparar df data con series de tiempo"
      ]
    },
    {
      "cell_type": "code",
      "metadata": {
        "id": "zJQj1ILFaPXq",
        "outputId": "d4e18b07-f73c-47a2-8b2d-7fd0829d1fbf",
        "colab": {
          "base_uri": "https://localhost:8080/",
          "height": 166
        }
      },
      "source": [
        "data=X_train\n",
        "data['week_day']= data['week'].astype(str)+'_'+data['weekday'].astype(str)\n",
        "data=data.set_index('asset_id')\n",
        "data.head(3)"
      ],
      "execution_count": 26,
      "outputs": [
        {
          "output_type": "execute_result",
          "data": {
            "text/html": [
              "<div>\n",
              "<style scoped>\n",
              "    .dataframe tbody tr th:only-of-type {\n",
              "        vertical-align: middle;\n",
              "    }\n",
              "\n",
              "    .dataframe tbody tr th {\n",
              "        vertical-align: top;\n",
              "    }\n",
              "\n",
              "    .dataframe thead th {\n",
              "        text-align: right;\n",
              "    }\n",
              "</style>\n",
              "<table border=\"1\" class=\"dataframe\">\n",
              "  <thead>\n",
              "    <tr style=\"text-align: right;\">\n",
              "      <th></th>\n",
              "      <th>group_id</th>\n",
              "      <th>week</th>\n",
              "      <th>weekday</th>\n",
              "      <th>t1</th>\n",
              "      <th>t2</th>\n",
              "      <th>t3</th>\n",
              "      <th>t4</th>\n",
              "      <th>total_t</th>\n",
              "      <th>week_day</th>\n",
              "    </tr>\n",
              "    <tr>\n",
              "      <th>asset_id</th>\n",
              "      <th></th>\n",
              "      <th></th>\n",
              "      <th></th>\n",
              "      <th></th>\n",
              "      <th></th>\n",
              "      <th></th>\n",
              "      <th></th>\n",
              "      <th></th>\n",
              "      <th></th>\n",
              "    </tr>\n",
              "  </thead>\n",
              "  <tbody>\n",
              "    <tr>\n",
              "      <th>1</th>\n",
              "      <td>2</td>\n",
              "      <td>1</td>\n",
              "      <td>1</td>\n",
              "      <td>NaN</td>\n",
              "      <td>NaN</td>\n",
              "      <td>19.0</td>\n",
              "      <td>0.0</td>\n",
              "      <td>2</td>\n",
              "      <td>1_1</td>\n",
              "    </tr>\n",
              "    <tr>\n",
              "      <th>1</th>\n",
              "      <td>2</td>\n",
              "      <td>1</td>\n",
              "      <td>2</td>\n",
              "      <td>NaN</td>\n",
              "      <td>NaN</td>\n",
              "      <td>8.0</td>\n",
              "      <td>0.0</td>\n",
              "      <td>2</td>\n",
              "      <td>1_2</td>\n",
              "    </tr>\n",
              "    <tr>\n",
              "      <th>1</th>\n",
              "      <td>2</td>\n",
              "      <td>1</td>\n",
              "      <td>3</td>\n",
              "      <td>NaN</td>\n",
              "      <td>NaN</td>\n",
              "      <td>9.0</td>\n",
              "      <td>0.0</td>\n",
              "      <td>2</td>\n",
              "      <td>1_3</td>\n",
              "    </tr>\n",
              "  </tbody>\n",
              "</table>\n",
              "</div>"
            ],
            "text/plain": [
              "          group_id  week  weekday  t1  t2    t3   t4 total_t week_day\n",
              "asset_id                                                             \n",
              "1                2     1        1 NaN NaN  19.0  0.0       2      1_1\n",
              "1                2     1        2 NaN NaN   8.0  0.0       2      1_2\n",
              "1                2     1        3 NaN NaN   9.0  0.0       2      1_3"
            ]
          },
          "metadata": {
            "tags": []
          },
          "execution_count": 26
        }
      ]
    },
    {
      "cell_type": "code",
      "metadata": {
        "id": "eDEHCuRAaPXs",
        "outputId": "73024c9f-4312-4204-ebcf-92a8be815078",
        "colab": {
          "base_uri": "https://localhost:8080/",
          "height": 235
        }
      },
      "source": [
        "data.groupby(data.index).size()  #número de observaciones en cada asset"
      ],
      "execution_count": 27,
      "outputs": [
        {
          "output_type": "execute_result",
          "data": {
            "text/plain": [
              "asset_id\n",
              "1     728\n",
              "2     728\n",
              "3     728\n",
              "4     728\n",
              "5     728\n",
              "     ... \n",
              "79    728\n",
              "80    728\n",
              "81    728\n",
              "82    728\n",
              "83    728\n",
              "Length: 83, dtype: int64"
            ]
          },
          "metadata": {
            "tags": []
          },
          "execution_count": 27
        }
      ]
    },
    {
      "cell_type": "code",
      "metadata": {
        "id": "3AyBxflzaPXu",
        "outputId": "9409165b-4357-4a11-de7b-20fbe2a307db",
        "colab": {
          "base_uri": "https://localhost:8080/",
          "height": 402
        }
      },
      "source": [
        "fecha_table = {\n",
        "    \"week_day\": data.loc[1]['week_day'].reset_index(drop=True), \"date\": pd.date_range('2018-01-01', periods=728 , freq='D') }\n",
        "fecha=pd.DataFrame(fecha_table)\n",
        "\n",
        "dia_tabla={\"week_day\": data.loc[1]['week_day'].reset_index(drop=True), \"day\":np.arange(1,729,1)}\n",
        "dia=pd.DataFrame(dia_tabla)\n",
        "\n",
        "data=data.reset_index()\n",
        "data=pd.merge(data,fecha, how='left', on='week_day')\n",
        "data=pd.merge(data,dia, how='left', on='week_day')\n",
        "data"
      ],
      "execution_count": 28,
      "outputs": [
        {
          "output_type": "execute_result",
          "data": {
            "text/html": [
              "<div>\n",
              "<style scoped>\n",
              "    .dataframe tbody tr th:only-of-type {\n",
              "        vertical-align: middle;\n",
              "    }\n",
              "\n",
              "    .dataframe tbody tr th {\n",
              "        vertical-align: top;\n",
              "    }\n",
              "\n",
              "    .dataframe thead th {\n",
              "        text-align: right;\n",
              "    }\n",
              "</style>\n",
              "<table border=\"1\" class=\"dataframe\">\n",
              "  <thead>\n",
              "    <tr style=\"text-align: right;\">\n",
              "      <th></th>\n",
              "      <th>asset_id</th>\n",
              "      <th>group_id</th>\n",
              "      <th>week</th>\n",
              "      <th>weekday</th>\n",
              "      <th>t1</th>\n",
              "      <th>t2</th>\n",
              "      <th>t3</th>\n",
              "      <th>t4</th>\n",
              "      <th>total_t</th>\n",
              "      <th>week_day</th>\n",
              "      <th>date</th>\n",
              "      <th>day</th>\n",
              "    </tr>\n",
              "  </thead>\n",
              "  <tbody>\n",
              "    <tr>\n",
              "      <th>0</th>\n",
              "      <td>1</td>\n",
              "      <td>2</td>\n",
              "      <td>1</td>\n",
              "      <td>1</td>\n",
              "      <td>NaN</td>\n",
              "      <td>NaN</td>\n",
              "      <td>19.0</td>\n",
              "      <td>0.0</td>\n",
              "      <td>2</td>\n",
              "      <td>1_1</td>\n",
              "      <td>2018-01-01</td>\n",
              "      <td>1</td>\n",
              "    </tr>\n",
              "    <tr>\n",
              "      <th>1</th>\n",
              "      <td>1</td>\n",
              "      <td>2</td>\n",
              "      <td>1</td>\n",
              "      <td>2</td>\n",
              "      <td>NaN</td>\n",
              "      <td>NaN</td>\n",
              "      <td>8.0</td>\n",
              "      <td>0.0</td>\n",
              "      <td>2</td>\n",
              "      <td>1_2</td>\n",
              "      <td>2018-01-02</td>\n",
              "      <td>2</td>\n",
              "    </tr>\n",
              "    <tr>\n",
              "      <th>2</th>\n",
              "      <td>1</td>\n",
              "      <td>2</td>\n",
              "      <td>1</td>\n",
              "      <td>3</td>\n",
              "      <td>NaN</td>\n",
              "      <td>NaN</td>\n",
              "      <td>9.0</td>\n",
              "      <td>0.0</td>\n",
              "      <td>2</td>\n",
              "      <td>1_3</td>\n",
              "      <td>2018-01-03</td>\n",
              "      <td>3</td>\n",
              "    </tr>\n",
              "    <tr>\n",
              "      <th>3</th>\n",
              "      <td>1</td>\n",
              "      <td>2</td>\n",
              "      <td>1</td>\n",
              "      <td>4</td>\n",
              "      <td>NaN</td>\n",
              "      <td>NaN</td>\n",
              "      <td>6.0</td>\n",
              "      <td>0.0</td>\n",
              "      <td>2</td>\n",
              "      <td>1_4</td>\n",
              "      <td>2018-01-04</td>\n",
              "      <td>4</td>\n",
              "    </tr>\n",
              "    <tr>\n",
              "      <th>4</th>\n",
              "      <td>1</td>\n",
              "      <td>2</td>\n",
              "      <td>1</td>\n",
              "      <td>5</td>\n",
              "      <td>NaN</td>\n",
              "      <td>NaN</td>\n",
              "      <td>6.0</td>\n",
              "      <td>2.0</td>\n",
              "      <td>2</td>\n",
              "      <td>1_5</td>\n",
              "      <td>2018-01-05</td>\n",
              "      <td>5</td>\n",
              "    </tr>\n",
              "    <tr>\n",
              "      <th>...</th>\n",
              "      <td>...</td>\n",
              "      <td>...</td>\n",
              "      <td>...</td>\n",
              "      <td>...</td>\n",
              "      <td>...</td>\n",
              "      <td>...</td>\n",
              "      <td>...</td>\n",
              "      <td>...</td>\n",
              "      <td>...</td>\n",
              "      <td>...</td>\n",
              "      <td>...</td>\n",
              "      <td>...</td>\n",
              "    </tr>\n",
              "    <tr>\n",
              "      <th>60419</th>\n",
              "      <td>83</td>\n",
              "      <td>3</td>\n",
              "      <td>104</td>\n",
              "      <td>3</td>\n",
              "      <td>1.0</td>\n",
              "      <td>0.0</td>\n",
              "      <td>48.0</td>\n",
              "      <td>8.0</td>\n",
              "      <td>4</td>\n",
              "      <td>104_3</td>\n",
              "      <td>2019-12-25</td>\n",
              "      <td>724</td>\n",
              "    </tr>\n",
              "    <tr>\n",
              "      <th>60420</th>\n",
              "      <td>83</td>\n",
              "      <td>3</td>\n",
              "      <td>104</td>\n",
              "      <td>4</td>\n",
              "      <td>0.0</td>\n",
              "      <td>0.0</td>\n",
              "      <td>37.0</td>\n",
              "      <td>1.0</td>\n",
              "      <td>4</td>\n",
              "      <td>104_4</td>\n",
              "      <td>2019-12-26</td>\n",
              "      <td>725</td>\n",
              "    </tr>\n",
              "    <tr>\n",
              "      <th>60421</th>\n",
              "      <td>83</td>\n",
              "      <td>3</td>\n",
              "      <td>104</td>\n",
              "      <td>5</td>\n",
              "      <td>1.0</td>\n",
              "      <td>0.0</td>\n",
              "      <td>48.0</td>\n",
              "      <td>9.0</td>\n",
              "      <td>4</td>\n",
              "      <td>104_5</td>\n",
              "      <td>2019-12-27</td>\n",
              "      <td>726</td>\n",
              "    </tr>\n",
              "    <tr>\n",
              "      <th>60422</th>\n",
              "      <td>83</td>\n",
              "      <td>3</td>\n",
              "      <td>104</td>\n",
              "      <td>6</td>\n",
              "      <td>2.0</td>\n",
              "      <td>0.0</td>\n",
              "      <td>53.0</td>\n",
              "      <td>11.0</td>\n",
              "      <td>4</td>\n",
              "      <td>104_6</td>\n",
              "      <td>2019-12-28</td>\n",
              "      <td>727</td>\n",
              "    </tr>\n",
              "    <tr>\n",
              "      <th>60423</th>\n",
              "      <td>83</td>\n",
              "      <td>3</td>\n",
              "      <td>104</td>\n",
              "      <td>7</td>\n",
              "      <td>1.0</td>\n",
              "      <td>0.0</td>\n",
              "      <td>61.0</td>\n",
              "      <td>0.0</td>\n",
              "      <td>4</td>\n",
              "      <td>104_7</td>\n",
              "      <td>2019-12-29</td>\n",
              "      <td>728</td>\n",
              "    </tr>\n",
              "  </tbody>\n",
              "</table>\n",
              "<p>60424 rows × 12 columns</p>\n",
              "</div>"
            ],
            "text/plain": [
              "       asset_id  group_id  week  weekday  ...  total_t  week_day       date  day\n",
              "0             1         2     1        1  ...        2       1_1 2018-01-01    1\n",
              "1             1         2     1        2  ...        2       1_2 2018-01-02    2\n",
              "2             1         2     1        3  ...        2       1_3 2018-01-03    3\n",
              "3             1         2     1        4  ...        2       1_4 2018-01-04    4\n",
              "4             1         2     1        5  ...        2       1_5 2018-01-05    5\n",
              "...         ...       ...   ...      ...  ...      ...       ...        ...  ...\n",
              "60419        83         3   104        3  ...        4     104_3 2019-12-25  724\n",
              "60420        83         3   104        4  ...        4     104_4 2019-12-26  725\n",
              "60421        83         3   104        5  ...        4     104_5 2019-12-27  726\n",
              "60422        83         3   104        6  ...        4     104_6 2019-12-28  727\n",
              "60423        83         3   104        7  ...        4     104_7 2019-12-29  728\n",
              "\n",
              "[60424 rows x 12 columns]"
            ]
          },
          "metadata": {
            "tags": []
          },
          "execution_count": 28
        }
      ]
    },
    {
      "cell_type": "code",
      "metadata": {
        "id": "wNBeffN_aPXw"
      },
      "source": [
        "data.to_csv('Output/X_train_formateado.csv', index=False)"
      ],
      "execution_count": null,
      "outputs": []
    },
    {
      "cell_type": "code",
      "metadata": {
        "id": "BbGotMjmaPXy",
        "outputId": "d585ce80-7c7c-4b2d-e737-a3e761febd4f",
        "colab": {
          "base_uri": "https://localhost:8080/",
          "height": 336
        }
      },
      "source": [
        "data.info()"
      ],
      "execution_count": 29,
      "outputs": [
        {
          "output_type": "stream",
          "text": [
            "<class 'pandas.core.frame.DataFrame'>\n",
            "Int64Index: 60424 entries, 0 to 60423\n",
            "Data columns (total 12 columns):\n",
            " #   Column    Non-Null Count  Dtype         \n",
            "---  ------    --------------  -----         \n",
            " 0   asset_id  60424 non-null  int64         \n",
            " 1   group_id  60424 non-null  int64         \n",
            " 2   week      60424 non-null  int64         \n",
            " 3   weekday   60424 non-null  int64         \n",
            " 4   t1        24752 non-null  float64       \n",
            " 5   t2        24752 non-null  float64       \n",
            " 6   t3        60424 non-null  float64       \n",
            " 7   t4        60424 non-null  float64       \n",
            " 8   total_t   60424 non-null  object        \n",
            " 9   week_day  60424 non-null  object        \n",
            " 10  date      60424 non-null  datetime64[ns]\n",
            " 11  day       60424 non-null  int64         \n",
            "dtypes: datetime64[ns](1), float64(4), int64(5), object(2)\n",
            "memory usage: 6.0+ MB\n"
          ],
          "name": "stdout"
        }
      ]
    },
    {
      "cell_type": "code",
      "metadata": {
        "id": "0sgak_LyaPX0",
        "outputId": "4e76f714-1244-4ef3-bbe6-e0d3a2e52bc2",
        "colab": {
          "base_uri": "https://localhost:8080/",
          "height": 284
        }
      },
      "source": [
        "data.describe()"
      ],
      "execution_count": 30,
      "outputs": [
        {
          "output_type": "execute_result",
          "data": {
            "text/html": [
              "<div>\n",
              "<style scoped>\n",
              "    .dataframe tbody tr th:only-of-type {\n",
              "        vertical-align: middle;\n",
              "    }\n",
              "\n",
              "    .dataframe tbody tr th {\n",
              "        vertical-align: top;\n",
              "    }\n",
              "\n",
              "    .dataframe thead th {\n",
              "        text-align: right;\n",
              "    }\n",
              "</style>\n",
              "<table border=\"1\" class=\"dataframe\">\n",
              "  <thead>\n",
              "    <tr style=\"text-align: right;\">\n",
              "      <th></th>\n",
              "      <th>asset_id</th>\n",
              "      <th>group_id</th>\n",
              "      <th>week</th>\n",
              "      <th>weekday</th>\n",
              "      <th>t1</th>\n",
              "      <th>t2</th>\n",
              "      <th>t3</th>\n",
              "      <th>t4</th>\n",
              "      <th>day</th>\n",
              "    </tr>\n",
              "  </thead>\n",
              "  <tbody>\n",
              "    <tr>\n",
              "      <th>count</th>\n",
              "      <td>60424.000000</td>\n",
              "      <td>60424.000000</td>\n",
              "      <td>60424.000000</td>\n",
              "      <td>60424.000000</td>\n",
              "      <td>24752.000000</td>\n",
              "      <td>24752.000000</td>\n",
              "      <td>60424.000000</td>\n",
              "      <td>60424.000000</td>\n",
              "      <td>60424.000000</td>\n",
              "    </tr>\n",
              "    <tr>\n",
              "      <th>mean</th>\n",
              "      <td>42.000000</td>\n",
              "      <td>2.674699</td>\n",
              "      <td>52.500000</td>\n",
              "      <td>4.000000</td>\n",
              "      <td>1.536765</td>\n",
              "      <td>0.349548</td>\n",
              "      <td>45.185075</td>\n",
              "      <td>8.372484</td>\n",
              "      <td>364.500000</td>\n",
              "    </tr>\n",
              "    <tr>\n",
              "      <th>std</th>\n",
              "      <td>23.958495</td>\n",
              "      <td>0.468491</td>\n",
              "      <td>30.021075</td>\n",
              "      <td>2.000017</td>\n",
              "      <td>5.029422</td>\n",
              "      <td>2.004578</td>\n",
              "      <td>64.641355</td>\n",
              "      <td>23.002216</td>\n",
              "      <td>210.157039</td>\n",
              "    </tr>\n",
              "    <tr>\n",
              "      <th>min</th>\n",
              "      <td>1.000000</td>\n",
              "      <td>2.000000</td>\n",
              "      <td>1.000000</td>\n",
              "      <td>1.000000</td>\n",
              "      <td>0.000000</td>\n",
              "      <td>0.000000</td>\n",
              "      <td>0.000000</td>\n",
              "      <td>0.000000</td>\n",
              "      <td>1.000000</td>\n",
              "    </tr>\n",
              "    <tr>\n",
              "      <th>25%</th>\n",
              "      <td>21.000000</td>\n",
              "      <td>2.000000</td>\n",
              "      <td>26.750000</td>\n",
              "      <td>2.000000</td>\n",
              "      <td>0.000000</td>\n",
              "      <td>0.000000</td>\n",
              "      <td>9.000000</td>\n",
              "      <td>0.000000</td>\n",
              "      <td>182.750000</td>\n",
              "    </tr>\n",
              "    <tr>\n",
              "      <th>50%</th>\n",
              "      <td>42.000000</td>\n",
              "      <td>3.000000</td>\n",
              "      <td>52.500000</td>\n",
              "      <td>4.000000</td>\n",
              "      <td>0.000000</td>\n",
              "      <td>0.000000</td>\n",
              "      <td>25.000000</td>\n",
              "      <td>1.000000</td>\n",
              "      <td>364.500000</td>\n",
              "    </tr>\n",
              "    <tr>\n",
              "      <th>75%</th>\n",
              "      <td>63.000000</td>\n",
              "      <td>3.000000</td>\n",
              "      <td>78.250000</td>\n",
              "      <td>6.000000</td>\n",
              "      <td>1.000000</td>\n",
              "      <td>0.000000</td>\n",
              "      <td>54.000000</td>\n",
              "      <td>6.000000</td>\n",
              "      <td>546.250000</td>\n",
              "    </tr>\n",
              "    <tr>\n",
              "      <th>max</th>\n",
              "      <td>83.000000</td>\n",
              "      <td>3.000000</td>\n",
              "      <td>104.000000</td>\n",
              "      <td>7.000000</td>\n",
              "      <td>76.000000</td>\n",
              "      <td>40.000000</td>\n",
              "      <td>728.000000</td>\n",
              "      <td>299.000000</td>\n",
              "      <td>728.000000</td>\n",
              "    </tr>\n",
              "  </tbody>\n",
              "</table>\n",
              "</div>"
            ],
            "text/plain": [
              "           asset_id      group_id  ...            t4           day\n",
              "count  60424.000000  60424.000000  ...  60424.000000  60424.000000\n",
              "mean      42.000000      2.674699  ...      8.372484    364.500000\n",
              "std       23.958495      0.468491  ...     23.002216    210.157039\n",
              "min        1.000000      2.000000  ...      0.000000      1.000000\n",
              "25%       21.000000      2.000000  ...      0.000000    182.750000\n",
              "50%       42.000000      3.000000  ...      1.000000    364.500000\n",
              "75%       63.000000      3.000000  ...      6.000000    546.250000\n",
              "max       83.000000      3.000000  ...    299.000000    728.000000\n",
              "\n",
              "[8 rows x 9 columns]"
            ]
          },
          "metadata": {
            "tags": []
          },
          "execution_count": 30
        }
      ]
    },
    {
      "cell_type": "markdown",
      "metadata": {
        "id": "WfWT0-lFaPX2"
      },
      "source": [
        "## Agruparar por asset y explorar series de timpo para 1 asset"
      ]
    },
    {
      "cell_type": "code",
      "metadata": {
        "id": "_zSX2LAnaPX2"
      },
      "source": [
        "data=data.set_index('asset_id')\n",
        "porAsset=data.groupby(data.index)"
      ],
      "execution_count": 31,
      "outputs": []
    },
    {
      "cell_type": "code",
      "metadata": {
        "id": "40ccaeNyaPX4",
        "outputId": "82fc6d33-3081-42f8-de80-e193216fef85",
        "colab": {
          "base_uri": "https://localhost:8080/",
          "height": 431
        }
      },
      "source": [
        "medicionesXasset=porAsset.agg({'t1':'sum','t2':'sum','t3':'sum','t4':'sum'})\n",
        "medicionesXasset"
      ],
      "execution_count": 32,
      "outputs": [
        {
          "output_type": "execute_result",
          "data": {
            "text/html": [
              "<div>\n",
              "<style scoped>\n",
              "    .dataframe tbody tr th:only-of-type {\n",
              "        vertical-align: middle;\n",
              "    }\n",
              "\n",
              "    .dataframe tbody tr th {\n",
              "        vertical-align: top;\n",
              "    }\n",
              "\n",
              "    .dataframe thead th {\n",
              "        text-align: right;\n",
              "    }\n",
              "</style>\n",
              "<table border=\"1\" class=\"dataframe\">\n",
              "  <thead>\n",
              "    <tr style=\"text-align: right;\">\n",
              "      <th></th>\n",
              "      <th>t1</th>\n",
              "      <th>t2</th>\n",
              "      <th>t3</th>\n",
              "      <th>t4</th>\n",
              "    </tr>\n",
              "    <tr>\n",
              "      <th>asset_id</th>\n",
              "      <th></th>\n",
              "      <th></th>\n",
              "      <th></th>\n",
              "      <th></th>\n",
              "    </tr>\n",
              "  </thead>\n",
              "  <tbody>\n",
              "    <tr>\n",
              "      <th>1</th>\n",
              "      <td>0.0</td>\n",
              "      <td>0.0</td>\n",
              "      <td>18911.0</td>\n",
              "      <td>3293.0</td>\n",
              "    </tr>\n",
              "    <tr>\n",
              "      <th>2</th>\n",
              "      <td>0.0</td>\n",
              "      <td>0.0</td>\n",
              "      <td>19489.0</td>\n",
              "      <td>6187.0</td>\n",
              "    </tr>\n",
              "    <tr>\n",
              "      <th>3</th>\n",
              "      <td>827.0</td>\n",
              "      <td>131.0</td>\n",
              "      <td>38694.0</td>\n",
              "      <td>5462.0</td>\n",
              "    </tr>\n",
              "    <tr>\n",
              "      <th>4</th>\n",
              "      <td>0.0</td>\n",
              "      <td>0.0</td>\n",
              "      <td>30643.0</td>\n",
              "      <td>6308.0</td>\n",
              "    </tr>\n",
              "    <tr>\n",
              "      <th>5</th>\n",
              "      <td>0.0</td>\n",
              "      <td>0.0</td>\n",
              "      <td>38389.0</td>\n",
              "      <td>5788.0</td>\n",
              "    </tr>\n",
              "    <tr>\n",
              "      <th>...</th>\n",
              "      <td>...</td>\n",
              "      <td>...</td>\n",
              "      <td>...</td>\n",
              "      <td>...</td>\n",
              "    </tr>\n",
              "    <tr>\n",
              "      <th>79</th>\n",
              "      <td>1981.0</td>\n",
              "      <td>293.0</td>\n",
              "      <td>103096.0</td>\n",
              "      <td>23572.0</td>\n",
              "    </tr>\n",
              "    <tr>\n",
              "      <th>80</th>\n",
              "      <td>0.0</td>\n",
              "      <td>0.0</td>\n",
              "      <td>17061.0</td>\n",
              "      <td>2387.0</td>\n",
              "    </tr>\n",
              "    <tr>\n",
              "      <th>81</th>\n",
              "      <td>206.0</td>\n",
              "      <td>31.0</td>\n",
              "      <td>14421.0</td>\n",
              "      <td>2978.0</td>\n",
              "    </tr>\n",
              "    <tr>\n",
              "      <th>82</th>\n",
              "      <td>0.0</td>\n",
              "      <td>0.0</td>\n",
              "      <td>74295.0</td>\n",
              "      <td>9357.0</td>\n",
              "    </tr>\n",
              "    <tr>\n",
              "      <th>83</th>\n",
              "      <td>938.0</td>\n",
              "      <td>261.0</td>\n",
              "      <td>47517.0</td>\n",
              "      <td>13348.0</td>\n",
              "    </tr>\n",
              "  </tbody>\n",
              "</table>\n",
              "<p>83 rows × 4 columns</p>\n",
              "</div>"
            ],
            "text/plain": [
              "              t1     t2        t3       t4\n",
              "asset_id                                  \n",
              "1            0.0    0.0   18911.0   3293.0\n",
              "2            0.0    0.0   19489.0   6187.0\n",
              "3          827.0  131.0   38694.0   5462.0\n",
              "4            0.0    0.0   30643.0   6308.0\n",
              "5            0.0    0.0   38389.0   5788.0\n",
              "...          ...    ...       ...      ...\n",
              "79        1981.0  293.0  103096.0  23572.0\n",
              "80           0.0    0.0   17061.0   2387.0\n",
              "81         206.0   31.0   14421.0   2978.0\n",
              "82           0.0    0.0   74295.0   9357.0\n",
              "83         938.0  261.0   47517.0  13348.0\n",
              "\n",
              "[83 rows x 4 columns]"
            ]
          },
          "metadata": {
            "tags": []
          },
          "execution_count": 32
        }
      ]
    },
    {
      "cell_type": "code",
      "metadata": {
        "id": "iehkE1nraPX7",
        "outputId": "cc7b75ec-8063-4ad3-9996-f6d749045cdd",
        "colab": {
          "base_uri": "https://localhost:8080/",
          "height": 502
        }
      },
      "source": [
        "ASSET=3\n",
        "\n",
        "mediciones=[\"t1\",\"t2\",\"t3\",\"t4\"]\n",
        "\n",
        "fig, axes = plt.subplots(2,2, figsize=(10,8))\n",
        "\n",
        "for var, subplot in zip(mediciones, axes.flatten()):\n",
        "    sns.kdeplot(porAsset.get_group(ASSET)[var], ax=subplot)\n"
      ],
      "execution_count": 34,
      "outputs": [
        {
          "output_type": "display_data",
          "data": {
            "image/png": "[encoded data removed]",
            "text/plain": [
              "<Figure size 720x576 with 4 Axes>"
            ]
          },
          "metadata": {
            "tags": []
          }
        }
      ]
    },
    {
      "cell_type": "code",
      "metadata": {
        "id": "sQOZEZI3aPX9",
        "outputId": "d3d56606-7b40-44c4-eb3f-1d7de2ecec3d",
        "colab": {
          "base_uri": "https://localhost:8080/",
          "height": 542
        }
      },
      "source": [
        "\n",
        "\n",
        "asset = porAsset.get_group(ASSET).reset_index()\n",
        "\n",
        "# Gráfica de la serie de tiempo de las 4 mediciones\n",
        "titulo='Series de tiempo de las mediciones correspondientes al asset: '+ str(ASSET)\n",
        "sns.set(rc={'figure.figsize':(16,5)}, palette=\"bright\")\n",
        "asset[mediciones].plot(linewidth=0.8, title=titulo)\n",
        "\n",
        "# Correlación entre las 4 mediciones para el asset de interes\n",
        "corr_=correlacion(asset[mediciones], grafica=True,figsize=(4,3))  \n",
        "\n",
        "\n"
      ],
      "execution_count": 35,
      "outputs": [
        {
          "output_type": "display_data",
          "data": {
            "image/png": "[encoded data removed]",
            "text/plain": [
              "<Figure size 1152x360 with 1 Axes>"
            ]
          },
          "metadata": {
            "tags": []
          }
        },
        {
          "output_type": "display_data",
          "data": {
            "image/png": "[encoded data removed]",
            "text/plain": [
              "<Figure size 288x216 with 2 Axes>"
            ]
          },
          "metadata": {
            "tags": []
          }
        }
      ]
    }
  ]
}